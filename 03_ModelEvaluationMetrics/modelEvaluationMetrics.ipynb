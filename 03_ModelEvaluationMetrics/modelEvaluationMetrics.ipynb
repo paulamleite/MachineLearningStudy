{
  "nbformat": 4,
  "nbformat_minor": 0,
  "metadata": {
    "colab": {
      "provenance": [],
      "gpuType": "T4"
    },
    "kernelspec": {
      "name": "python3",
      "display_name": "Python 3"
    },
    "language_info": {
      "name": "python"
    },
    "accelerator": "GPU"
  },
  "cells": [
    {
      "cell_type": "code",
      "source": [
        "import os\n",
        "import numpy as np\n",
        "import random\n",
        "\n",
        "import matplotlib.pyplot as plt\n",
        "\n",
        "import keras\n",
        "from keras.preprocessing import image\n",
        "from keras.applications.imagenet_utils import preprocess_input\n",
        "from keras.layers import Dense\n",
        "from keras.models import Model\n",
        "\n",
        "from sklearn.metrics import confusion_matrix, ConfusionMatrixDisplay, classification_report"
      ],
      "metadata": {
        "id": "YtGVDP_UjTa9"
      },
      "execution_count": 1,
      "outputs": []
    },
    {
      "cell_type": "markdown",
      "source": [
        "Getting the dataset with 200 images belonging to two classes: with and without a face mask.\n",
        "\n",
        "Original dataset available at: https://www.kaggle.com/datasets/omkargurav/face-mask-dataset"
      ],
      "metadata": {
        "id": "i6I7XCJfF6eN"
      }
    },
    {
      "cell_type": "code",
      "execution_count": null,
      "metadata": {
        "id": "VJYIqR-cfToN"
      },
      "outputs": [],
      "source": [
        "!echo \"Unzip file:\"\n",
        "!unzip with_or_without_mask.zip\n",
        "!rm with_or_without_mask.zip\n",
        "!ls"
      ]
    },
    {
      "cell_type": "code",
      "source": [
        "root = 'with_or_without_mask'\n",
        "categories = [x[0] for x in os.walk(root) if x[0]][1:]\n",
        "\n",
        "print(categories)"
      ],
      "metadata": {
        "colab": {
          "base_uri": "https://localhost:8080/"
        },
        "id": "SuIs_h6FjKjW",
        "outputId": "d228a2d5-b49b-4ce6-b4eb-a84e49a7ffd7"
      },
      "execution_count": 3,
      "outputs": [
        {
          "output_type": "stream",
          "name": "stdout",
          "text": [
            "['with_or_without_mask/with_mask', 'with_or_without_mask/without_mask']\n"
          ]
        }
      ]
    },
    {
      "cell_type": "code",
      "source": [
        "def get_image(path):\n",
        "    img = image.load_img(path, target_size=(224, 224))\n",
        "    x = image.img_to_array(img)\n",
        "    x = np.expand_dims(x, axis=0)\n",
        "    x = preprocess_input(x)\n",
        "    return img, x"
      ],
      "metadata": {
        "id": "8NaPhaSH69kB"
      },
      "execution_count": 4,
      "outputs": []
    },
    {
      "cell_type": "code",
      "source": [
        "data = []\n",
        "for c, category in enumerate(categories):\n",
        "    images = [os.path.join(dp, f) for dp, dn, filenames\n",
        "              in os.walk(category) for f in filenames\n",
        "              if os.path.splitext(f)[1].lower() in ['.jpg','.png','.jpeg']]\n",
        "    for img_path in images:\n",
        "        img, x = get_image(img_path)\n",
        "        data.append({'x':np.array(x[0]), 'y':c})"
      ],
      "metadata": {
        "id": "RapvCu7Ej9tb"
      },
      "execution_count": 5,
      "outputs": []
    },
    {
      "cell_type": "markdown",
      "source": [
        "Defining the training, validation, and testing datasets."
      ],
      "metadata": {
        "id": "j7AOuQyVGVHb"
      }
    },
    {
      "cell_type": "code",
      "source": [
        "random.shuffle(data)\n",
        "\n",
        "train_split, val_split = 0.7, 0.15\n",
        "\n",
        "idx_val = int(train_split * len(data))\n",
        "idx_test = int((train_split + val_split) * len(data))\n",
        "\n",
        "train = data[:idx_val]\n",
        "val = data[idx_val:idx_test]\n",
        "test = data[idx_test:]\n",
        "\n",
        "x_train, y_train = np.array([t[\"x\"] for t in train]), [t[\"y\"] for t in train]\n",
        "x_val, y_val = np.array([t[\"x\"] for t in val]), [t[\"y\"] for t in val]\n",
        "x_test, y_test = np.array([t[\"x\"] for t in test]), [t[\"y\"] for t in test]"
      ],
      "metadata": {
        "id": "S5lO3GGcpwV8"
      },
      "execution_count": 6,
      "outputs": []
    },
    {
      "cell_type": "code",
      "source": [
        "# normalize data\n",
        "x_train = x_train.astype('float32') / 255.\n",
        "x_val = x_val.astype('float32') / 255.\n",
        "x_test = x_test.astype('float32') / 255.\n",
        "\n",
        "# convert labels to one-hot vectors\n",
        "# A one-hot vector is a way to represent categorical data as numerical vectors. A one-hot vector is created for each unique category. Example:\n",
        "# with_mask    = [1, 0]\n",
        "# without_mask = [0, 1]\n",
        "num_classes = len(categories)\n",
        "\n",
        "y_train = keras.utils.to_categorical(y_train, num_classes)\n",
        "y_val = keras.utils.to_categorical(y_val, num_classes)\n",
        "y_test = keras.utils.to_categorical(y_test, num_classes)\n",
        "\n",
        "print(y_test.shape)"
      ],
      "metadata": {
        "colab": {
          "base_uri": "https://localhost:8080/"
        },
        "id": "W7E6nzD07jGR",
        "outputId": "e0c0458b-d456-43a0-d3ad-a028413583cd"
      },
      "execution_count": 7,
      "outputs": [
        {
          "output_type": "stream",
          "name": "stdout",
          "text": [
            "(30, 2)\n"
          ]
        }
      ]
    },
    {
      "cell_type": "markdown",
      "source": [
        "Using transfer learning technique for model classification.\n",
        "\n",
        "The transfer learning algorithm is based on the code available at:  https://colab.research.google.com/github/kylemath/ml4a-guides/blob/master/notebooks/transfer-learning.ipynb"
      ],
      "metadata": {
        "id": "Mp9Oc56XGlxj"
      }
    },
    {
      "cell_type": "code",
      "source": [
        "vgg = keras.applications.VGG16(weights='imagenet', include_top=True)\n",
        "inp = vgg.input\n",
        "\n",
        "# make a new softmax layer with num_classes neurons\n",
        "new_classification_layer = Dense(num_classes, activation='softmax')\n",
        "\n",
        "# connect our new layer to the second to last layer in VGG, and make a reference to it\n",
        "out = new_classification_layer(vgg.layers[-2].output)\n",
        "\n",
        "# create a new network between inp and out\n",
        "model_new = Model(inp, out)"
      ],
      "metadata": {
        "colab": {
          "base_uri": "https://localhost:8080/"
        },
        "id": "-kmRL9ES898Z",
        "outputId": "8feb58ba-4077-4245-d9f6-04f87befb495"
      },
      "execution_count": 8,
      "outputs": [
        {
          "output_type": "stream",
          "name": "stdout",
          "text": [
            "Downloading data from https://storage.googleapis.com/tensorflow/keras-applications/vgg16/vgg16_weights_tf_dim_ordering_tf_kernels.h5\n",
            "\u001b[1m553467096/553467096\u001b[0m \u001b[32m━━━━━━━━━━━━━━━━━━━━\u001b[0m\u001b[37m\u001b[0m \u001b[1m25s\u001b[0m 0us/step\n"
          ]
        }
      ]
    },
    {
      "cell_type": "code",
      "source": [
        "# make all layers untrainable by freezing weights (except for last layer)\n",
        "for l, layer in enumerate(model_new.layers[:-1]):\n",
        "    layer.trainable = False\n",
        "\n",
        "# ensure the last layer is trainable/not frozen\n",
        "for l, layer in enumerate(model_new.layers[-1:]):\n",
        "    layer.trainable = True\n",
        "\n",
        "model_new.compile(loss='categorical_crossentropy',\n",
        "              optimizer='adam',\n",
        "              metrics=['accuracy'])"
      ],
      "metadata": {
        "id": "mQ5nRuCe9cYu"
      },
      "execution_count": 9,
      "outputs": []
    },
    {
      "cell_type": "code",
      "source": [
        "history = model_new.fit(x_train, y_train,\n",
        "                         batch_size=16,\n",
        "                         epochs=5,\n",
        "                         validation_data=(x_val, y_val))"
      ],
      "metadata": {
        "colab": {
          "base_uri": "https://localhost:8080/"
        },
        "id": "vnlLBrwc9jgB",
        "outputId": "ebd57c81-cb50-4b3b-d44e-5e209b014eec"
      },
      "execution_count": 10,
      "outputs": [
        {
          "output_type": "stream",
          "name": "stdout",
          "text": [
            "Epoch 1/5\n",
            "\u001b[1m9/9\u001b[0m \u001b[32m━━━━━━━━━━━━━━━━━━━━\u001b[0m\u001b[37m\u001b[0m \u001b[1m24s\u001b[0m 2s/step - accuracy: 0.4809 - loss: 0.9831 - val_accuracy: 0.6000 - val_loss: 0.5249\n",
            "Epoch 2/5\n",
            "\u001b[1m9/9\u001b[0m \u001b[32m━━━━━━━━━━━━━━━━━━━━\u001b[0m\u001b[37m\u001b[0m \u001b[1m19s\u001b[0m 127ms/step - accuracy: 0.6786 - loss: 0.4886 - val_accuracy: 0.9000 - val_loss: 0.3621\n",
            "Epoch 3/5\n",
            "\u001b[1m9/9\u001b[0m \u001b[32m━━━━━━━━━━━━━━━━━━━━\u001b[0m\u001b[37m\u001b[0m \u001b[1m1s\u001b[0m 136ms/step - accuracy: 0.8475 - loss: 0.3392 - val_accuracy: 0.9000 - val_loss: 0.2798\n",
            "Epoch 4/5\n",
            "\u001b[1m9/9\u001b[0m \u001b[32m━━━━━━━━━━━━━━━━━━━━\u001b[0m\u001b[37m\u001b[0m \u001b[1m1s\u001b[0m 127ms/step - accuracy: 0.9212 - loss: 0.2430 - val_accuracy: 0.9333 - val_loss: 0.2342\n",
            "Epoch 5/5\n",
            "\u001b[1m9/9\u001b[0m \u001b[32m━━━━━━━━━━━━━━━━━━━━\u001b[0m\u001b[37m\u001b[0m \u001b[1m1s\u001b[0m 131ms/step - accuracy: 0.8713 - loss: 0.2478 - val_accuracy: 0.9667 - val_loss: 0.1968\n"
          ]
        }
      ]
    },
    {
      "cell_type": "markdown",
      "source": [
        "Checks if the model's prediction aligns with the actual labels of the test dataset."
      ],
      "metadata": {
        "id": "e6gI3HKGGtma"
      }
    },
    {
      "cell_type": "code",
      "source": [
        "y_pred_probs = model_new.predict(x_test) # Creates an array of prediction probabilities\n",
        "y_pred = np.argmax(y_pred_probs, axis=1) # Gets the index of the class with the highest probability\n",
        "\n",
        "# The test label set (y_test) is in one-hot encoded format,\n",
        "# but scikit-learn metric functions generally expect labels in index format (e.g., 0 for class 0 and 1 for class 1).\n",
        "# This line converts the test labels back to index format.\n",
        "y_test_labels = np.argmax(y_test, axis=1)\n",
        "\n",
        "print(\"True labels in test dataset: \", y_test_labels)\n",
        "print(\"Model predictions: \", y_pred)"
      ],
      "metadata": {
        "colab": {
          "base_uri": "https://localhost:8080/"
        },
        "id": "9souFn3rJVqn",
        "outputId": "918e6a1f-cf72-41c3-9842-588a041c4bff"
      },
      "execution_count": 11,
      "outputs": [
        {
          "output_type": "stream",
          "name": "stdout",
          "text": [
            "\u001b[1m1/1\u001b[0m \u001b[32m━━━━━━━━━━━━━━━━━━━━\u001b[0m\u001b[37m\u001b[0m \u001b[1m12s\u001b[0m 12s/step\n",
            "True labels in test dataset:  [0 1 1 0 1 0 1 1 0 1 0 1 1 1 1 1 0 0 0 1 1 1 1 1 0 1 0 0 1 0]\n",
            "Model predictions:  [0 1 1 0 1 0 1 1 0 1 0 1 1 1 1 1 0 0 0 1 1 1 1 1 0 1 0 0 1 1]\n"
          ]
        }
      ]
    },
    {
      "cell_type": "markdown",
      "source": [
        "Plot the confusion matrix."
      ],
      "metadata": {
        "id": "69PKeWoPOCV_"
      }
    },
    {
      "cell_type": "code",
      "source": [
        "cm = confusion_matrix(y_test_labels, y_pred, labels=np.arange(num_classes))\n",
        "\n",
        "# To display the confusion matrix in a visually appealing way\n",
        "disp = ConfusionMatrixDisplay(confusion_matrix=cm, display_labels=categories)\n",
        "\n",
        "disp.plot(cmap=plt.cm.Blues)\n",
        "plt.title(\"Confusion Matrix\")\n",
        "plt.grid(False)\n",
        "plt.tight_layout()\n",
        "plt.show()"
      ],
      "metadata": {
        "colab": {
          "base_uri": "https://localhost:8080/",
          "height": 435
        },
        "id": "hJctHvtJEtgv",
        "outputId": "0aaff648-ee57-4a81-9cae-1408e3783c04"
      },
      "execution_count": 15,
      "outputs": [
        {
          "output_type": "display_data",
          "data": {
            "text/plain": [
              "<Figure size 640x480 with 2 Axes>"
            ],
            "image/png": "[encoded data removed]"
          },
          "metadata": {}
        }
      ]
    },
    {
      "cell_type": "markdown",
      "source": [
        "## Precision:\n",
        "Precision measures the accuracy of positive predictions. It answers the question: \"Of all the instances that the model predicted as positive for a certain class, how many were actually positive for that class?\"\n",
        "\n",
        "Precision = TP/(TP+FP)\n",
        "\n",
        "\n",
        "\n",
        "## Recall (Sensitivity):\n",
        "Recall measures the ability of the model to find all the relevant cases (positive instances). It answers the question: \"Of all the actual positive instances for a certain class, how many did the model correctly identify?\"\n",
        "\n",
        "Recall = TP/(TP+FN)\n",
        "\n",
        "\n",
        "\n",
        "## F1-Score:\n",
        "The F1-Score is the harmonic mean of Precision and Recall. It provides a single metric that balances both. It answers the question: \"What is the balance between precision and recall?\"\n",
        "\n",
        "F-score = 2 * (Precision * Recall) / (Precision + Recall)\n",
        "\n",
        "\n",
        "\n",
        "## Support:\n",
        "Support is the number of actual occurrences of a specific class in the dataset. It indicates the frequency of each class.\n"
      ],
      "metadata": {
        "id": "L8_vTvJmR019"
      }
    },
    {
      "cell_type": "code",
      "source": [
        "print(classification_report(y_test_labels, y_pred, labels=np.arange(num_classes), target_names=categories))"
      ],
      "metadata": {
        "colab": {
          "base_uri": "https://localhost:8080/"
        },
        "id": "Bm_kTLvuKNGy",
        "outputId": "6986fd53-8b20-4e05-d7f1-6730d3bce6f6"
      },
      "execution_count": 16,
      "outputs": [
        {
          "output_type": "stream",
          "name": "stdout",
          "text": [
            "                                   precision    recall  f1-score   support\n",
            "\n",
            "   with_or_without_mask/with_mask       1.00      0.92      0.96        12\n",
            "with_or_without_mask/without_mask       0.95      1.00      0.97        18\n",
            "\n",
            "                         accuracy                           0.97        30\n",
            "                        macro avg       0.97      0.96      0.96        30\n",
            "                     weighted avg       0.97      0.97      0.97        30\n",
            "\n"
          ]
        }
      ]
    }
  ]
}