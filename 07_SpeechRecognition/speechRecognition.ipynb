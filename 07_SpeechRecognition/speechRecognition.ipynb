{
 "cells": [
  {
   "cell_type": "code",
   "execution_count": 1,
   "id": "46b3e5b3",
   "metadata": {},
   "outputs": [],
   "source": [
    "import speech_recognition as sr # pip install SpeechRecognition\n",
    "import pyaudio\n",
    "import webbrowser"
   ]
  },
  {
   "cell_type": "code",
   "execution_count": 2,
   "id": "21fe3c37",
   "metadata": {},
   "outputs": [],
   "source": [
    "def record_audio(filename, duration=5):\n",
    "    r = sr.Recognizer()\n",
    "    with sr.Microphone() as source:\n",
    "        print(\"Say something!\")\n",
    "        r.adjust_for_ambient_noise(source)\n",
    "        audio = r.listen(source, phrase_time_limit=duration) \n",
    "\n",
    "    with open(filename, \"wb\") as f:\n",
    "        f.write(audio.get_wav_data())\n",
    "        \n",
    "    print(f\"Audio recorded as {filename}\")\n",
    "    return filename"
   ]
  },
  {
   "cell_type": "code",
   "execution_count": 3,
   "id": "58af20f2",
   "metadata": {},
   "outputs": [],
   "source": [
    "def audio_to_text(filename):\n",
    "    r = sr.Recognizer()\n",
    "    with sr.AudioFile(filename) as source:\n",
    "        audio = r.record(source) \n",
    "\n",
    "    try:\n",
    "        # Recognize speech using Google Speech Recognition\n",
    "        text = r.recognize_google(audio, language='pt-BR') \n",
    "        print(f\"Recognized text: {text}\")\n",
    "        return text\n",
    "    except sr.UnknownValueError:\n",
    "        print(\"Google Speech Recognition could not understand audio.\")\n",
    "        return None\n",
    "    except sr.RequestError as e:\n",
    "        print(f\"Could not request results from Google Speech Recognition service; {e}\")\n",
    "        return None"
   ]
  },
  {
   "cell_type": "code",
   "execution_count": 4,
   "id": "3f0a3c6e",
   "metadata": {},
   "outputs": [],
   "source": [
    "INTENTS_AND_KEYWORDS = {\n",
    "    \"search\": [\"pesquisar\", \"buscar\", \"procurar\", \"encontrar\"],\n",
    "    \"play_media\": [\"tocar\", \"ouvir\", \"reproduzir\"]\n",
    "}"
   ]
  },
  {
   "cell_type": "code",
   "execution_count": 5,
   "id": "0d426383",
   "metadata": {},
   "outputs": [],
   "source": [
    "def extract_intent_and_object(text):\n",
    "    text_original = text.lower()\n",
    "    identified_intent = \"unknown\"\n",
    "    identified_object = None\n",
    "\n",
    "    for intent_name, keywords in INTENTS_AND_KEYWORDS.items():\n",
    "        for keyword in keywords:\n",
    "            index = text_original.find(keyword)\n",
    "\n",
    "            if index != -1:\n",
    "                # Found a keyword that defines the intent\n",
    "                identified_intent = intent_name\n",
    "\n",
    "                # Remove the keyword from the text to extract the object\n",
    "                text_after_removal = text_original.replace(keyword, \"\").strip()\n",
    "\n",
    "                # Basic cleaning of the object: remove punctuation and normalize spaces\n",
    "                cleaned_object = \"\"\n",
    "                for char in text_after_removal:\n",
    "                    if char.isalnum() or char.isspace(): # Keep alphanumeric chars and spaces\n",
    "                        cleaned_object += char\n",
    "\n",
    "                cleaned_object = ' '.join(cleaned_object.split()) \n",
    "\n",
    "                if cleaned_object:\n",
    "                    identified_object = cleaned_object\n",
    "\n",
    "                if identified_intent != \"unknown\" and identified_object:\n",
    "                    break\n",
    "        if identified_intent != \"unknown\" and identified_object:\n",
    "            break \n",
    "\n",
    "    return {\"intent\": identified_intent, \"object\": identified_object}"
   ]
  },
  {
   "cell_type": "code",
   "execution_count": 6,
   "id": "55ab53d2",
   "metadata": {},
   "outputs": [],
   "source": [
    "def execute_action(nlp_result):\n",
    "    intent = nlp_result[\"intent\"]\n",
    "    obj = nlp_result[\"object\"]\n",
    "\n",
    "    # --- Action Execution ---\n",
    "    if intent == \"search\":\n",
    "        if obj:\n",
    "            print(f\"Executing search on Google for: '{obj}'\")\n",
    "            try:\n",
    "                # Open Google search in the default web browser\n",
    "                webbrowser.open(f\"https://www.google.com/search?q={obj}\")\n",
    "            except Exception as e:\n",
    "                print(f\"Could not open browser: {e}\")\n",
    "        else:\n",
    "            print(\"I don't know what to search for.\")\n",
    "\n",
    "    elif intent == \"play_media\":\n",
    "        if obj:\n",
    "            print(f\"Executing playback on YouTube for: '{obj}'\")\n",
    "            try:\n",
    "                # Open YouTube search results in the default web browser\n",
    "                webbrowser.open(f\"https://www.youtube.com/results?search_query={obj}\")\n",
    "            except Exception as e:\n",
    "                print(f\"Could not open Youtube: {e}\")\n",
    "        else:\n",
    "            print(\"I don't know what to play.\")\n",
    "\n",
    "    else:\n",
    "        print(\"Command not understood.\")"
   ]
  },
  {
   "cell_type": "code",
   "execution_count": 7,
   "id": "1d441e7e",
   "metadata": {},
   "outputs": [
    {
     "name": "stdout",
     "output_type": "stream",
     "text": [
      "Say something!\n",
      "Audio recorded as voice_command.wav\n"
     ]
    }
   ],
   "source": [
    "audio_file = record_audio(\"voice_command.wav\", duration=8)"
   ]
  },
  {
   "cell_type": "code",
   "execution_count": 8,
   "id": "6556fa74",
   "metadata": {},
   "outputs": [
    {
     "name": "stdout",
     "output_type": "stream",
     "text": [
      "Recognized text: buscar farmácia mais próxima\n"
     ]
    }
   ],
   "source": [
    "command_text = audio_to_text(\"voice_command.wav\")"
   ]
  },
  {
   "cell_type": "code",
   "execution_count": 9,
   "id": "5eb7dd7e",
   "metadata": {},
   "outputs": [
    {
     "name": "stdout",
     "output_type": "stream",
     "text": [
      "Interpreted: {'intent': 'search', 'object': 'farmácia mais próxima'}\n",
      "Executing search on Google for: 'farmácia mais próxima'\n"
     ]
    }
   ],
   "source": [
    "if command_text:\n",
    "    nlp_result = extract_intent_and_object(command_text)\n",
    "    print(f\"Interpreted: {nlp_result}\")\n",
    "    execute_action(nlp_result)"
   ]
  }
 ],
 "metadata": {
  "kernelspec": {
   "display_name": "venv (3.13.3)",
   "language": "python",
   "name": "python3"
  },
  "language_info": {
   "codemirror_mode": {
    "name": "ipython",
    "version": 3
   },
   "file_extension": ".py",
   "mimetype": "text/x-python",
   "name": "python",
   "nbconvert_exporter": "python",
   "pygments_lexer": "ipython3",
   "version": "3.13.3"
  }
 },
 "nbformat": 4,
 "nbformat_minor": 5
}
