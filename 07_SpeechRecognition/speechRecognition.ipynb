{
 "cells": [
  {
   "cell_type": "code",
   "execution_count": 1,
   "id": "46b3e5b3",
   "metadata": {},
   "outputs": [],
   "source": [
    "import speech_recognition as sr # pip install SpeechRecognition\n",
    "import pyaudio\n",
    "import webbrowser"
   ]
  },
  {
   "cell_type": "code",
   "execution_count": 2,
   "id": "21fe3c37",
   "metadata": {},
   "outputs": [],
   "source": [
    "def gravar_audio(nome_arquivo=\"audio.wav\", duracao=5):\n",
    "    r = sr.Recognizer()\n",
    "    with sr.Microphone() as source:\n",
    "        print(\"Fale alguma coisa...\")\n",
    "        r.adjust_for_ambient_noise(source)\n",
    "        audio = r.listen(source, phrase_time_limit=duracao)\n",
    "\n",
    "    with open(nome_arquivo, \"wb\") as f:\n",
    "        f.write(audio.get_wav_data())\n",
    "        \n",
    "    print(f\"Áudio gravado em {nome_arquivo}\")\n",
    "    return nome_arquivo"
   ]
  },
  {
   "cell_type": "code",
   "execution_count": 3,
   "id": "58af20f2",
   "metadata": {},
   "outputs": [],
   "source": [
    "def audio_para_texto(nome_arquivo):\n",
    "    r = sr.Recognizer()\n",
    "    with sr.AudioFile(nome_arquivo) as source:\n",
    "        audio = r.record(source)\n",
    "\n",
    "    try:\n",
    "        texto = r.recognize_google(audio, language='pt-BR')\n",
    "        print(f\"Texto reconhecido: {texto}\")\n",
    "        return texto\n",
    "    except sr.UnknownValueError:\n",
    "        print(\"Não foi possível entender o áudio.\")\n",
    "        return None\n",
    "    except sr.RequestError as e:\n",
    "        print(f\"Erro ao solicitar resultados do serviço de reconhecimento de fala do Google; {e}\")\n",
    "        return None"
   ]
  },
  {
   "cell_type": "code",
   "execution_count": 4,
   "id": "3f0a3c6e",
   "metadata": {},
   "outputs": [],
   "source": [
    "INTENCOES_E_PALAVRAS_CHAVE = {\n",
    "    \"pesquisar\": [\"pesquisar\", \"buscar\", \"procurar\", \"encontrar\"],\n",
    "    \"tocar_media\": [\"tocar\", \"ouvir\", \"reproduzir\"]\n",
    "}"
   ]
  },
  {
   "cell_type": "code",
   "execution_count": 5,
   "id": "0d426383",
   "metadata": {},
   "outputs": [],
   "source": [
    "def extrair_intencao_e_objeto(texto):\n",
    "    texto_original = texto.lower()\n",
    "    intencao_identificada = \"desconhecida\"\n",
    "    objeto_identificado = None\n",
    "\n",
    "    # Vamos iterar pelas intenções e suas palavras-chave\n",
    "    for intencao_nome, palavras_chave in INTENCOES_E_PALAVRAS_CHAVE.items():\n",
    "        for palavra_chave in palavras_chave:\n",
    "            # Usamos find para saber se a palavra chave está no texto\n",
    "            indice = texto_original.find(palavra_chave)\n",
    "\n",
    "            if indice != -1:\n",
    "                # Encontramos uma palavra chave que define a intenção\n",
    "                intencao_identificada = intencao_nome\n",
    "\n",
    "                # Removemos a palavra chave da intenção do texto para extrair o objeto\n",
    "                # Usamos replace com count=1 para remover apenas a primeira ocorrência\n",
    "                texto_apos_remocao = texto_original.replace(palavra_chave, \"\").strip()\n",
    "\n",
    "                # Limpeza básica do objeto: remove pontuações e normaliza espaços\n",
    "                objeto_limpo = \"\"\n",
    "                for char in texto_apos_remocao:\n",
    "                    if char.isalnum() or char.isspace():\n",
    "                        objeto_limpo += char\n",
    "                objeto_limpo = ' '.join(objeto_limpo.split()) # Normaliza espaços\n",
    "\n",
    "                if objeto_limpo:\n",
    "                    objeto_identificado = objeto_limpo\n",
    "\n",
    "                # Se encontramos uma intenção e um objeto, podemos parar a busca por intenções\n",
    "                if intencao_identificada != \"desconhecida\" and objeto_identificado:\n",
    "                    break # Sai do loop de palavras_chave\n",
    "        if intencao_identificada != \"desconhecida\" and objeto_identificado:\n",
    "            break # Sai do loop de intenções\n",
    "\n",
    "    return {\"intencao\": intencao_identificada, \"objeto\": objeto_identificado}"
   ]
  },
  {
   "cell_type": "code",
   "execution_count": 6,
   "id": "55ab53d2",
   "metadata": {},
   "outputs": [],
   "source": [
    "def executar_acao(resultado_nlp):\n",
    "    intencao = resultado_nlp[\"intencao\"]\n",
    "    objeto = resultado_nlp[\"objeto\"]\n",
    "\n",
    "    # --- Execução das Ações ---\n",
    "    if intencao == \"pesquisar\":\n",
    "        if objeto:\n",
    "            print(f\"Executando pesquisa no Google por: '{objeto}'\")\n",
    "            try:\n",
    "                webbrowser.open(f\"https://www.google.com/search?q={objeto}\")\n",
    "            except Exception as e:\n",
    "                print(f\"Não foi possível abrir o navegador: {e}\")\n",
    "        else:\n",
    "            print(\"Não sei o que pesquisar.\")\n",
    "    elif intencao == \"tocar_media\":\n",
    "        if objeto:\n",
    "            print(f\"Executando reprodução no Youtube de: '{objeto}'\")\n",
    "            try:\n",
    "                webbrowser.open(f\"https://www.youtube.com/results?search_query={objeto}\")\n",
    "            except Exception as e:\n",
    "                print(f\"Não foi possível abrir o Youtube: {e}\")\n",
    "        else:\n",
    "            print(\"Não sei o que tocar.\")\n",
    "    else:\n",
    "        print(\"Comando não compreendido.\")"
   ]
  },
  {
   "cell_type": "code",
   "execution_count": 19,
   "id": "1d441e7e",
   "metadata": {},
   "outputs": [
    {
     "name": "stdout",
     "output_type": "stream",
     "text": [
      "Fale alguma coisa...\n",
      "Áudio gravado em comando_voz.wav\n"
     ]
    }
   ],
   "source": [
    "arquivo_audio = gravar_audio(\"comando_voz.wav\", duracao=8)"
   ]
  },
  {
   "cell_type": "code",
   "execution_count": 20,
   "id": "6556fa74",
   "metadata": {},
   "outputs": [
    {
     "name": "stdout",
     "output_type": "stream",
     "text": [
      "Texto reconhecido: encontrar farmácia mais próxima\n"
     ]
    }
   ],
   "source": [
    "texto_do_comando = audio_para_texto(\"comando_voz.wav\")"
   ]
  },
  {
   "cell_type": "code",
   "execution_count": 21,
   "id": "5eb7dd7e",
   "metadata": {},
   "outputs": [
    {
     "name": "stdout",
     "output_type": "stream",
     "text": [
      "Interpretado: {'intencao': 'pesquisar', 'objeto': 'farmácia mais próxima'}\n",
      "Executando pesquisa no Google por: 'farmácia mais próxima'\n"
     ]
    }
   ],
   "source": [
    "if texto_do_comando:\n",
    "    resultado_nlp = extrair_intencao_e_objeto(texto_do_comando)\n",
    "    print(f\"Interpretado: {resultado_nlp}\")\n",
    "    executar_acao(resultado_nlp)"
   ]
  }
 ],
 "metadata": {
  "kernelspec": {
   "display_name": "venv (3.13.3)",
   "language": "python",
   "name": "python3"
  },
  "language_info": {
   "codemirror_mode": {
    "name": "ipython",
    "version": 3
   },
   "file_extension": ".py",
   "mimetype": "text/x-python",
   "name": "python",
   "nbconvert_exporter": "python",
   "pygments_lexer": "ipython3",
   "version": "3.13.3"
  }
 },
 "nbformat": 4,
 "nbformat_minor": 5
}
